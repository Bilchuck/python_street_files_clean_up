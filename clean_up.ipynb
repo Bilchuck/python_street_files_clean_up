{
 "cells": [
  {
   "cell_type": "code",
   "execution_count": 2,
   "metadata": {},
   "outputs": [],
   "source": [
    "import pandas as pd\n",
    "import numpy as np"
   ]
  },
  {
   "cell_type": "code",
   "execution_count": 76,
   "metadata": {},
   "outputs": [],
   "source": [
    "def buildingFormat(building):\n",
    "    building = str(building)\n",
    "    building = building.split(\"/\")[0]\n",
    "    building = building.split(\"-\")[0]\n",
    "    return building\n",
    "\n",
    "def filterInvalidRows(rows):\n",
    "    rows = rows[pd.notnull(rows['street_number'])]\n",
    "    rows = rows[rows['street_number'] != \"nan\"]\n",
    "    return rows\n",
    "\n",
    "RULES = [{\n",
    "        \"right\": [\", просп.\", \" просп.\", \",просп.\", \",пр.\", \" пр.\"],\n",
    "        \"result\": \"пр. \",\n",
    "    },\n",
    "    {\n",
    "        \"right\": [\", пл.\", \",пл.\", \" пл.\"],\n",
    "        \"result\": \"пл. \",\n",
    "    }\n",
    "]\n",
    "\n",
    "def streetFormat(street):\n",
    "    for rule in RULES:\n",
    "        for r in rule[\"right\"]:\n",
    "            if r in street:\n",
    "                street = rule[\"result\"] + street.split(r)[0]\n",
    "    return street"
   ]
  },
  {
   "cell_type": "code",
   "execution_count": 77,
   "metadata": {},
   "outputs": [],
   "source": [
    "def cleanFile(file, streetCol, streetNumCol, category, nameCol):\n",
    "    df = pd.read_csv(file)\n",
    "    result = pd.DataFrame(columns=[\"street_name\", \"street_number\", \"category\", \"name\", \"unique_id\"])\n",
    "\n",
    "    result[\"street_name\"] = df[streetCol].map(streetFormat)\n",
    "    result[\"street_number\"] = df[streetNumCol].map(buildingFormat)\n",
    "    result[\"category\"] = category\n",
    "    result[\"name\"] = df[nameCol]\n",
    "    result = filterInvalidRows(result)\n",
    "    result[\"unique_id\"] = result.index.map(lambda idx: f'{category} {idx}')\n",
    "    name = file.split(\"./\")[1].split(\".csv\")[0] + \"__clean\" + \".csv\"\n",
    "    result.to_csv(name, encoding='utf-8')\n",
    "    \n",
    "# cleanFile('./cafe_lviv.csv', 'street', 'building', 'cafe', 'name') done\n",
    "# cleanFile('./museums.csv', 'Street', 'Building_number', 'museum', 'Name') done\n",
    "# cleanFile('./cafe_lviv.csv', 'street', 'building', 'cafe', 'name') \n",
    "# cleanFile('./cafe_lviv.csv', 'street', 'building', 'cafe', 'name')\n",
    "# cleanFile('./cafe_lviv.csv', 'street', 'building', 'cafe', 'name')\n",
    "# cleanFile('./cafe_lviv.csv', 'street', 'building', 'cafe', 'name')\n",
    "# cleanFile('./cafe_lviv.csv', 'street', 'building', 'cafe', 'name')"
   ]
  },
  {
   "cell_type": "code",
   "execution_count": 83,
   "metadata": {},
   "outputs": [
    {
     "data": {
      "text/html": [
       "<div>\n",
       "<style scoped>\n",
       "    .dataframe tbody tr th:only-of-type {\n",
       "        vertical-align: middle;\n",
       "    }\n",
       "\n",
       "    .dataframe tbody tr th {\n",
       "        vertical-align: top;\n",
       "    }\n",
       "\n",
       "    .dataframe thead th {\n",
       "        text-align: right;\n",
       "    }\n",
       "</style>\n",
       "<table border=\"1\" class=\"dataframe\">\n",
       "  <thead>\n",
       "    <tr style=\"text-align: right;\">\n",
       "      <th></th>\n",
       "      <th>Name;Street;Building_number;Phone_number;E-mail</th>\n",
       "    </tr>\n",
       "  </thead>\n",
       "  <tbody>\n",
       "    <tr>\n",
       "      <th>0</th>\n",
       "      <td>Êîìóíàëüíà ì³ñüêà êë³í³÷íà ë³êàðíÿ øâèäêî¿ ìåä...</td>\n",
       "    </tr>\n",
       "    <tr>\n",
       "      <th>1</th>\n",
       "      <td>Êîìóíàëüíà ì³ñüêà äèòÿ÷à êë³í³÷íà ë³êàðíÿ;Îðëè...</td>\n",
       "    </tr>\n",
       "    <tr>\n",
       "      <th>2</th>\n",
       "      <td>Ì³ñüêèé êîìóíàëüíèé êë³í³÷íèé ïîëîãîâèé áóäèíî...</td>\n",
       "    </tr>\n",
       "    <tr>\n",
       "      <th>3</th>\n",
       "      <td>Êîìóíàëüíå ï³äïðèºìñòâî «Ëüâ³âñüêà 1-à ì³ñüêà ...</td>\n",
       "    </tr>\n",
       "    <tr>\n",
       "      <th>4</th>\n",
       "      <td>Êîìóíàëüíà 3-ÿ ì³ñüêà êë³í³÷íà ë³êàðíÿ;Ðàïïîïî...</td>\n",
       "    </tr>\n",
       "  </tbody>\n",
       "</table>\n",
       "</div>"
      ],
      "text/plain": [
       "     Name;Street;Building_number;Phone_number;E-mail\n",
       "0  Êîìóíàëüíà ì³ñüêà êë³í³÷íà ë³êàðíÿ øâèäêî¿ ìåä...\n",
       "1  Êîìóíàëüíà ì³ñüêà äèòÿ÷à êë³í³÷íà ë³êàðíÿ;Îðëè...\n",
       "2  Ì³ñüêèé êîìóíàëüíèé êë³í³÷íèé ïîëîãîâèé áóäèíî...\n",
       "3  Êîìóíàëüíå ï³äïðèºìñòâî «Ëüâ³âñüêà 1-à ì³ñüêà ...\n",
       "4  Êîìóíàëüíà 3-ÿ ì³ñüêà êë³í³÷íà ë³êàðíÿ;Ðàïïîïî..."
      ]
     },
     "execution_count": 83,
     "metadata": {},
     "output_type": "execute_result"
    }
   ],
   "source": [
    "df = pd.read_csv(\"./hospitals.csv\", error_bad_lines=False, encoding = \"ISO-8859-1\")\n",
    "df.head()"
   ]
  },
  {
   "cell_type": "code",
   "execution_count": null,
   "metadata": {},
   "outputs": [],
   "source": []
  }
 ],
 "metadata": {
  "kernelspec": {
   "display_name": "Python 3",
   "language": "python",
   "name": "python3"
  },
  "language_info": {
   "codemirror_mode": {
    "name": "ipython",
    "version": 3
   },
   "file_extension": ".py",
   "mimetype": "text/x-python",
   "name": "python",
   "nbconvert_exporter": "python",
   "pygments_lexer": "ipython3",
   "version": "3.6.5"
  }
 },
 "nbformat": 4,
 "nbformat_minor": 2
}
