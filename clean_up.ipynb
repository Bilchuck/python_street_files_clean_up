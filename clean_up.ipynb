{
 "cells": [
  {
   "cell_type": "code",
   "execution_count": 2,
   "metadata": {},
   "outputs": [],
   "source": [
    "import pandas as pd\n",
    "import numpy as np"
   ]
  },
  {
   "cell_type": "code",
   "execution_count": 138,
   "metadata": {},
   "outputs": [],
   "source": [
    "def buildingFormat(building):\n",
    "    building = str(building)\n",
    "    building = building.split(\"/\")[0]\n",
    "    building = building.split(\"-\")[0]\n",
    "    return building\n",
    "\n",
    "def filterInvalidRows(rows):\n",
    "    rows = rows[pd.notnull(rows['street_number'])]\n",
    "    rows = rows[rows['street_number'] != \"nan\"]\n",
    "    return rows\n",
    "\n",
    "RULES = [{\n",
    "        \"right\": [\", просп.\", \" просп.\", \",просп.\", \",пр.\", \" пр.\"],\n",
    "        \"left_result\": \"пр. \"\n",
    "    },\n",
    "    {\n",
    "        \"right\": [\", пл.\", \",пл.\", \" пл.\"],\n",
    "        \"left_result\": \"пл. \"\n",
    "    },\n",
    "    {\n",
    "        \"right\": [\"\\\"гетьм. \"],\n",
    "        \"right_result\": \" гетьм\"\n",
    "    },\n",
    "    {\n",
    "        \"right\": [\"\\\"акад.\"],\n",
    "        \"right_result\": \" акад\"\n",
    "    }\n",
    "]\n",
    "\n",
    "def streetFormat(street):\n",
    "    street = str(street)\n",
    "    for rule in RULES:\n",
    "        for r in rule[\"right\"]:\n",
    "            if r in street:\n",
    "                streetName = street.split(r)[0]\n",
    "                street = rule[\"left_result\"] + street.split(r)[0] if (\"left_result\" in rule) else streetName + rule[\"right_result\"]\n",
    "    return street\n",
    "def streetFromAddress(street):\n",
    "    beginings = ['вул.', 'пр.']\n",
    "    for b in beginings:\n",
    "        if b in street:\n",
    "            street = street.split(b)[1]\n",
    "    street = street.split(',')[0]\n",
    "    return street\n",
    "def buildingFromAddress(address):\n",
    "    return address.split(streetFromAddress(address))[1].split(',')[0]"
   ]
  },
  {
   "cell_type": "code",
   "execution_count": 144,
   "metadata": {},
   "outputs": [],
   "source": [
    "def cleanFile(file, streetCol, streetNumCol, category, nameCol, sep=\",\"):\n",
    "    df = pd.read_csv(file, sep=sep)\n",
    "    result = pd.DataFrame(columns=[\"street_name\", \"street_number\", \"category\", \"name\", \"unique_id\"])\n",
    "\n",
    "    result[\"street_name\"] = df[streetCol].map(streetFormat)\n",
    "    result[\"street_number\"] = df[streetNumCol].map(buildingFormat)\n",
    "    result[\"category\"] = category\n",
    "    if (nameCol):\n",
    "        result[\"name\"] = df[nameCol]\n",
    "    result = filterInvalidRows(result)\n",
    "    result[\"unique_id\"] = result.index.map(lambda idx: f'{category} {idx}')\n",
    "    name = file.split(\"./\")[1].split(\".csv\")[0] + \"__clean\" + \".csv\"\n",
    "    result.to_csv(name, encoding='utf-8')\n",
    "\n",
    "def buildingsFromAddress(file, addressCol, sep=\",\"):\n",
    "    df = pd.read_csv(file, sep=sep)\n",
    "    \n",
    "    df[\"streetName\"] = df['address'].map(streetFromAddress)\n",
    "    df[\"buildingNum\"] = df['address'].map(buildingFromAddress)\n",
    "    print(df.head())\n",
    "    df.to_csv(file, encoding='utf-8')\n",
    "    \n",
    "cleanFile('./cafe_lviv.csv', 'street', 'building', 'cafe', 'name')\n",
    "cleanFile('./museums.csv', 'Street', 'Building_number', 'museum', 'Name')\n",
    "cleanFile('./hospitals.csv', 'Street', 'Building_number', 'hospital', 'Name', sep=\";\")\n",
    "cleanFile('./schools.csv', 'adress_street', 'adress_building', 'school', 'name', sep=\";\")\n",
    "cleanFile('./second_hands.csv', 'Street_name', 'Building_number', 'second_hand', 'Name,', sep=\";\")\n",
    "# buildingsFromAddress(\"./universities.csv\", \"address\", sep=\";\")\n",
    "cleanFile('./universities.csv', 'streetName', 'buildingNum', 'university', 'Name')"
   ]
  },
  {
   "cell_type": "code",
   "execution_count": 142,
   "metadata": {},
   "outputs": [
    {
     "data": {
      "text/plain": [
       "0                 вул. Університетська,1,м. Львів,79000\n",
       "1                      вул. С.Бандери,12,м. Львів 79013\n",
       "2                    вул. Гвардійська,32,м. Львів,79012\n",
       "3                      вул. Чупринки,105,м. Львів,79057\n",
       "4                      вул. Пекарська,69,м. Львів,79010\n",
       "5     вул. В. Великого,1,Жовківський район,м. Дублян...\n",
       "6                      вул. Пекарська,50,м. Львів,79010\n",
       "7                     вул. Кубійовича,38,м. Львів,79011\n",
       "8                      вул. Підвальна,17,м. Львів,79008\n",
       "9                  вул. Нижанківського,5,м. Львів,79005\n",
       "10                        пр. Шевченка,9,м. Львів,79005\n",
       "11                   вул. Менцинського,8,м. Львів,79007\n",
       "12                  вул. Клепарівська,35,м. Львів,79000\n",
       "13    смт. Брюховичі,вул. Сухомлинського,16,м. Львів...\n",
       "14                      вул. Костюшка,11,м. Львів,79000\n",
       "15                    вул. Городоцька,26,м. Львів,79007\n",
       "16                  вул. Свєнціцького,17,м. Львів,79011\n",
       "17                вул. Кульпарківська,99,м. Львів,79021\n",
       "18                        вул. Ліська,16,м. Львів,79015\n",
       "19           вул. Туган-Барановського,10,м. Львів,79005\n",
       "20               вул. Гетьмана Мазепи,29,м. Львів,79058\n",
       "21                 вул.. І.Блажкевич,12а,м. Львів,79052\n",
       "22                        вул. Кушевича,5,м.Львів,79019\n",
       "Name: address, dtype: object"
      ]
     },
     "execution_count": 142,
     "metadata": {},
     "output_type": "execute_result"
    }
   ],
   "source": [
    "df = pd.read_csv(\"./universities.csv\")\n",
    "df.head()\n",
    "df['address']"
   ]
  },
  {
   "cell_type": "code",
   "execution_count": 102,
   "metadata": {},
   "outputs": [
    {
     "data": {
      "text/plain": [
       "'Абхазька вул.'"
      ]
     },
     "execution_count": 102,
     "metadata": {},
     "output_type": "execute_result"
    }
   ],
   "source": [
    "streetFormat(\"Абхазька вул.\")"
   ]
  },
  {
   "cell_type": "code",
   "execution_count": 107,
   "metadata": {},
   "outputs": [
    {
     "data": {
      "text/plain": [
       "[{'right': [', просп.', ' просп.', ',просп.', ',пр.', ' пр.'],\n",
       "  'result': 'пр. '},\n",
       " {'right': [', пл.', ',пл.', ' пл.'], 'result': 'пл. '},\n",
       " {'right': [' вул.'], 'result': ''}]"
      ]
     },
     "execution_count": 107,
     "metadata": {},
     "output_type": "execute_result"
    }
   ],
   "source": [
    "RULES"
   ]
  },
  {
   "cell_type": "code",
   "execution_count": null,
   "metadata": {},
   "outputs": [],
   "source": []
  }
 ],
 "metadata": {
  "kernelspec": {
   "display_name": "Python 3",
   "language": "python",
   "name": "python3"
  },
  "language_info": {
   "codemirror_mode": {
    "name": "ipython",
    "version": 3
   },
   "file_extension": ".py",
   "mimetype": "text/x-python",
   "name": "python",
   "nbconvert_exporter": "python",
   "pygments_lexer": "ipython3",
   "version": "3.6.5"
  }
 },
 "nbformat": 4,
 "nbformat_minor": 2
}
